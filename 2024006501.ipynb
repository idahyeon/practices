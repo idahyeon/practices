{
 "cells": [
  {
   "cell_type": "markdown",
   "id": "4043acd9-3541-4c3a-abc8-233e217131bb",
   "metadata": {},
   "source": [
    "# 이 코드는 숫자들을 입력받은 후, 그 중 3개의 수를 더했을 때 소수가 되는 경우의 수를 구하는 코드입니다.\n",
    "* 먼저 소수임을 판별하는 is_prime 함수가 있습니다.\n",
    "* 그리고 itertools 모듈을 활용하여 3개의 수를 뽑아 낸 리스트들을 구하여\n",
    "각각의 리스트들의 합을 is_prime 함수에 넣습니다.\n",
    "* 참일 때, 즉 소수일 때만 j값을 1씩 증가시켜서\n",
    "3개의 수를 더했을 때 소수가 되는 경우가 몇가지인지 구해냅니다. "
   ]
  },
  {
   "cell_type": "code",
   "execution_count": null,
   "id": "1951c4e8-59be-446e-a8cb-dff92ce7217a",
   "metadata": {},
   "outputs": [],
   "source": [
    "def is_prime(n):\n",
    "    if n<2:\n",
    "        return False\n",
    "    for i in range(2,n):\n",
    "        if n%i==0:\n",
    "            return False\n",
    "    return True\n",
    "\n",
    "nums=[int(num) for num in input().split()]\n",
    "j=0\n",
    "import itertools\n",
    "\n",
    "combinations=itertools.combinations(nums,3)\n",
    "for combination in combinations:\n",
    "    sum_combination=sum(combination)\n",
    "    if is_prime(sum_combination):\n",
    "        j+=1\n",
    "\n",
    "print(j)"
   ]
  }
 ],
 "metadata": {
  "kernelspec": {
   "display_name": "Python 3 (ipykernel)",
   "language": "python",
   "name": "python3"
  },
  "language_info": {
   "codemirror_mode": {
    "name": "ipython",
    "version": 3
   },
   "file_extension": ".py",
   "mimetype": "text/x-python",
   "name": "python",
   "nbconvert_exporter": "python",
   "pygments_lexer": "ipython3",
   "version": "3.11.7"
  }
 },
 "nbformat": 4,
 "nbformat_minor": 5
}
