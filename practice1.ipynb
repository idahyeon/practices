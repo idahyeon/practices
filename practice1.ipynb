{
 "cells": [
  {
   "cell_type": "markdown",
   "id": "4043acd9-3541-4c3a-abc8-233e217131bb",
   "metadata": {},
   "source": [
    "# 전체코드"
   ]
  },
  {
   "cell_type": "code",
   "execution_count": null,
   "id": "1951c4e8-59be-446e-a8cb-dff92ce7217a",
   "metadata": {},
   "outputs": [],
   "source": [
    "import itertools\n",
    "\n",
    "def is_prime(n):\n",
    "    if n<2:\n",
    "        return False\n",
    "    for i in range(2,n):\n",
    "        if n%i==0:\n",
    "            return False\n",
    "    return True\n",
    "\n",
    "nums=[int(num) for num in input().split()]\n",
    "j=0\n",
    "\n",
    "combinations=itertools.combinations(nums,3)\n",
    "for combination in combinations:\n",
    "    sum_combination=sum(combination)\n",
    "    if is_prime(sum_combination):\n",
    "        j+=1\n",
    "\n",
    "print(j)"
   ]
  },
  {
   "cell_type": "markdown",
   "id": "58848d97-0fd6-46ed-8dee-96090ed73321",
   "metadata": {},
   "source": [
    "* 조합을 뽑아내기 위해 itertools 모듈을 가져옵니다."
   ]
  },
  {
   "cell_type": "code",
   "execution_count": null,
   "id": "2b0d6a82-21bc-4e38-9c65-1bcf909869a0",
   "metadata": {},
   "outputs": [],
   "source": [
    "import itertools"
   ]
  },
  {
   "cell_type": "markdown",
   "id": "cf6fdd4f-5d34-4b7b-9c31-6d1eda80bfb6",
   "metadata": {},
   "source": [
    "* 소수임을 판별하는 함수 is_prime을 만듭니다.  \n",
    "주어진 수가 2이하, 즉 2, 1, 0 또는 음수일 때는 false를 반환합니다.  \n",
    "그 외에는 자신과 나누었을 때 나누어 떨어지는 수(약수)가 있는 경우 false를 반환합니다.  \n",
    "나머지는 true를 반환합니다.   "
   ]
  },
  {
   "cell_type": "code",
   "execution_count": null,
   "id": "a5f2de7d-2427-4032-9c1e-66241598c706",
   "metadata": {},
   "outputs": [],
   "source": [
    "def is_prime(n):\n",
    "    if n<=2:\n",
    "        return False\n",
    "    for i in range(2,n):\n",
    "        if n%i==0:\n",
    "            return False\n",
    "    return True"
   ]
  },
  {
   "cell_type": "markdown",
   "id": "3257eb0a-5b80-4ca1-992e-98627b1d2d56",
   "metadata": {},
   "source": [
    "* 공백을 간격으로 수를 입력받아 nums라는 리스트에 넣습니다.\n",
    "* 경우의 수를 저장하기 위한 변수 j를 0으로 설정해둡니다."
   ]
  },
  {
   "cell_type": "code",
   "execution_count": null,
   "id": "83247422-c11d-4c58-a997-cb2bcbb3618b",
   "metadata": {},
   "outputs": [],
   "source": [
    "nums=[int(num) for num in input().split()]\n",
    "j=0"
   ]
  },
  {
   "cell_type": "code",
   "execution_count": 6,
   "id": "78e2b0f0-334f-4276-86a7-1352c5213c38",
   "metadata": {},
   "outputs": [
    {
     "ename": "SyntaxError",
     "evalue": "invalid syntax (3646289301.py, line 1)",
     "output_type": "error",
     "traceback": [
      "\u001b[1;36m  Cell \u001b[1;32mIn[6], line 1\u001b[1;36m\u001b[0m\n\u001b[1;33m    * 하나하나의 경우를 combination에 담고 그 합을 구합니다.\u001b[0m\n\u001b[1;37m            ^\u001b[0m\n\u001b[1;31mSyntaxError\u001b[0m\u001b[1;31m:\u001b[0m invalid syntax\n"
     ]
    }
   ],
   "source": [
    "\n",
    "* 하나하나의 경우를 combination에 담고 그 합을 구합니다. \n",
    "* 구한 합을 is_prime에 넣어 true라면 j값을 1씩 올립니다."
   ]
  },
  {
   "cell_type": "code",
   "execution_count": null,
   "id": "e1d66ee6-0822-4d69-99a6-ef1a7d798abe",
   "metadata": {},
   "outputs": [],
   "source": [
    "combinations=itertools.combinations(nums,3)\n",
    "for combination in combinations:\n",
    "    sum_combination=sum(combination)\n",
    "    if is_prime(sum_combination):\n",
    "        j+=1"
   ]
  },
  {
   "cell_type": "code",
   "execution_count": null,
   "id": "302164b2-cffd-4d84-b5d7-cdd76524ab5c",
   "metadata": {},
   "outputs": [],
   "source": [
    "* 정답을 출력합니다. "
   ]
  },
  {
   "cell_type": "code",
   "execution_count": null,
   "id": "9c5eeff3-d8b9-4622-837c-e6b68d1a20fd",
   "metadata": {},
   "outputs": [],
   "source": [
    "print(j)"
   ]
  }
 ],
 "metadata": {
  "kernelspec": {
   "display_name": "Python 3 (ipykernel)",
   "language": "python",
   "name": "python3"
  },
  "language_info": {
   "codemirror_mode": {
    "name": "ipython",
    "version": 3
   },
   "file_extension": ".py",
   "mimetype": "text/x-python",
   "name": "python",
   "nbconvert_exporter": "python",
   "pygments_lexer": "ipython3",
   "version": "3.11.7"
  }
 },
 "nbformat": 4,
 "nbformat_minor": 5
}
