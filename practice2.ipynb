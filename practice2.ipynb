{
 "cells": [
  {
   "cell_type": "markdown",
   "id": "661b981b-1d05-49b7-904f-485c9d67ed6c",
   "metadata": {},
   "source": [
    "# 1. 주사위 게임 (random)"
   ]
  },
  {
   "cell_type": "code",
   "execution_count": null,
   "id": "8d5c06f5-4b22-46a5-8666-480b56410733",
   "metadata": {},
   "outputs": [],
   "source": [
    "import random\n",
    "def dice():\n",
    "    return random.randint(1,6)\n",
    "\n",
    "p1=input('당신의 이름을 입력하세요: ')\n",
    "p2=input('상대방의 이름을 입력하세요: ')\n",
    "\n",
    "r1=dice()\n",
    "r2=dice()\n",
    "\n",
    "if r1>r2:\n",
    "    print(f'{p1}의 수: {r1}, {p2}의 수: {r2}. 승자: {p1}')\n",
    "elif r1<r2:\n",
    "    print(f'{p1}의 수: {r1}, {p2}의 수: {r2}. 승자: {p2}')\n",
    "else:\n",
    "    print(f'{p1}의 수: {r1}, {p2}의 수: {r2}. 비겼습니다.')"
   ]
  },
  {
   "cell_type": "markdown",
   "id": "ce5b8978-b7aa-46f6-8c1e-3eb5897eb879",
   "metadata": {},
   "source": [
    "random 모듈을 가져옵니다."
   ]
  },
  {
   "cell_type": "code",
   "execution_count": null,
   "id": "5cf9fe15-c6b4-4c97-be6c-963e95e56bd7",
   "metadata": {},
   "outputs": [],
   "source": [
    "import random"
   ]
  },
  {
   "cell_type": "markdown",
   "id": "3a5c544e-d33b-45bb-b06d-cf73ca759d43",
   "metadata": {},
   "source": [
    "dice라는 함수를 만들어 1부터 6까지의 수 중 무작위로 반환하도록 합니다. "
   ]
  },
  {
   "cell_type": "code",
   "execution_count": null,
   "id": "04dfaa61-f691-4c09-bfc9-37188df2923b",
   "metadata": {},
   "outputs": [],
   "source": [
    "def dice():\n",
    "    return random.randint(1,6)"
   ]
  },
  {
   "cell_type": "markdown",
   "id": "906617a7-738d-439e-9288-b343115a7b21",
   "metadata": {},
   "source": [
    "플레이어 이름을 입력받고, 각 플레이어의 주사위 수를 배정합니다."
   ]
  },
  {
   "cell_type": "code",
   "execution_count": null,
   "id": "72a00aca-9146-4129-9c78-4a9ab6d3711e",
   "metadata": {},
   "outputs": [],
   "source": [
    "p1=input('당신의 이름을 입력하세요: ')\n",
    "p2=input('상대방의 이름을 입력하세요: ')\n",
    "\n",
    "r1=dice()\n",
    "r2=dice()"
   ]
  },
  {
   "cell_type": "markdown",
   "id": "56c18fac-0efe-4d6c-8385-e45c1c907c6e",
   "metadata": {},
   "source": [
    "수를 비교하여 수가 큰 사람이 승자로 표시되도록 합니다. 같을 경우에는 비겼음을 출력합니다. "
   ]
  },
  {
   "cell_type": "code",
   "execution_count": null,
   "id": "c31a2541-5f6c-4e75-8eb6-c3eab346c157",
   "metadata": {},
   "outputs": [],
   "source": [
    "if r1>r2:\n",
    "    print(f'{p1}의 수: {r1}, {p2}의 수: {r2}. 승자: {p1}')\n",
    "elif r1<r2:\n",
    "    print(f'{p1}의 수: {r1}, {p2}의 수: {r2}. 승자: {p2}')\n",
    "else:\n",
    "    print(f'{p1}의 수: {r1}, {p2}의 수: {r2}. 비겼습니다.')"
   ]
  },
  {
   "cell_type": "markdown",
   "id": "c611fa03-0483-42b3-a09e-ef1d5e18ae1c",
   "metadata": {},
   "source": [
    "# 2. 동전 게임"
   ]
  },
  {
   "cell_type": "code",
   "execution_count": null,
   "id": "fdef0aa7-09d2-4570-b21e-d1362ae18faf",
   "metadata": {},
   "outputs": [],
   "source": [
    "import random\n",
    "def coin():\n",
    "    return random.randint(0,1)\n",
    "\n",
    "p=coin()\n",
    "q=input('앞면일까요 뒷면일까요? ')\n",
    "if q=='앞면':\n",
    "   q=0\n",
    "else:\n",
    "   q=1\n",
    "\n",
    "if p==q:\n",
    "    print('예측성공')\n",
    "else:\n",
    "    print('예측실패')"
   ]
  },
  {
   "cell_type": "markdown",
   "id": "5342d947-66a8-4d74-bf52-3a8ed18bd3ff",
   "metadata": {},
   "source": [
    "random 모듈을 가져옵니다."
   ]
  },
  {
   "cell_type": "code",
   "execution_count": null,
   "id": "2aea2e30-4715-4724-9b50-0c972b53ada9",
   "metadata": {},
   "outputs": [],
   "source": [
    "import random"
   ]
  },
  {
   "cell_type": "markdown",
   "id": "3f109397-eb31-4be0-8c52-619a8cbcf51f",
   "metadata": {},
   "source": [
    "coin라는 함수를 만들어 0또는 1을 랜덤으로 반환합니다. "
   ]
  },
  {
   "cell_type": "code",
   "execution_count": null,
   "id": "f4d75c4f-3e50-4ca5-ab77-9951af88d5ad",
   "metadata": {},
   "outputs": [],
   "source": [
    "def coin():\n",
    "    return random.randint(0,1)"
   ]
  },
  {
   "cell_type": "markdown",
   "id": "d476ebeb-f61c-4e5b-9b5a-a308ceb1cb21",
   "metadata": {},
   "source": [
    "앞면인지 뒷면인지를 결정하고, 사용자에게 앞면일지 뒷면일지를 예측하게 합니다. \n",
    "입력받은 값이 앞면이라면 0, 뒷면이라면 1을 저장합니다."
   ]
  },
  {
   "cell_type": "code",
   "execution_count": null,
   "id": "0a5b5323-e288-4da9-a66b-96c6d2c87b45",
   "metadata": {},
   "outputs": [],
   "source": [
    "p=coin()\n",
    "q=input('앞면일까요 뒷면일까요? ')\n",
    "if q=='앞면':\n",
    "   q=0\n",
    "else:\n",
    "   q=1"
   ]
  },
  {
   "cell_type": "markdown",
   "id": "4645c72c-c58e-4ea3-9f5e-732bae3b2d76",
   "metadata": {},
   "source": [
    "결정해둔 값과 입력받은 값이 같다면 '예측성공'을, 아니라면 '예측실패'를 출력하도록 합니다. "
   ]
  },
  {
   "cell_type": "code",
   "execution_count": null,
   "id": "68a65ed1-ab3d-4155-b489-ded1c99a272e",
   "metadata": {},
   "outputs": [],
   "source": [
    "if p==q:\n",
    "    print('예측성공')\n",
    "else:\n",
    "    print('예측실패')"
   ]
  },
  {
   "cell_type": "markdown",
   "id": "b599258f-6f2a-446d-9b8b-2d8dcfac5ece",
   "metadata": {},
   "source": [
    "# 3. 전체코드"
   ]
  },
  {
   "cell_type": "code",
   "execution_count": null,
   "id": "cfcc4a9e-a600-4c40-b958-80f099aa8e5c",
   "metadata": {},
   "outputs": [],
   "source": [
    "def factorial(n):\n",
    "    if n==1 or n==2:\n",
    "        return n\n",
    "    else:\n",
    "        return n*factorial(n-1)\n",
    "factorial100=list(map(int,str(factorial(100))))\n",
    "print(sum(factorial100))"
   ]
  },
  {
   "cell_type": "markdown",
   "id": "e0da495a-7269-48c6-a7ef-3c128ee15322",
   "metadata": {},
   "source": [
    "* factorial이라는 함수를 만들어 팩토리얼 값을 계산할 수 있도록 합니다.  \n",
    "값이 1또는 2라면 그대로 반환하고, 이외의 경우에는 함수를 다시 호출하여 팩토리얼 값을 재귀적으로 구할 수 있습니다. "
   ]
  },
  {
   "cell_type": "code",
   "execution_count": null,
   "id": "57dd59a9-96cc-426d-af0b-38fdcc9ee3f8",
   "metadata": {},
   "outputs": [],
   "source": [
    "def factorial(n):\n",
    "    if n==1 or n==2:\n",
    "        return n\n",
    "    else:\n",
    "        return n*factorial(n-1)"
   ]
  },
  {
   "cell_type": "markdown",
   "id": "cadb0ce1-4a91-44ff-9833-0b5ec1ea3acb",
   "metadata": {},
   "source": [
    "factorial(100)의 값을 factoria"
   ]
  },
  {
   "cell_type": "code",
   "execution_count": null,
   "id": "6e841c91-edb1-44c5-8e5e-92099a52ae7d",
   "metadata": {},
   "outputs": [],
   "source": [
    "factorial100=list(map(int,str(factorial(100))))"
   ]
  },
  {
   "cell_type": "code",
   "execution_count": null,
   "id": "98536754-f3de-4e85-8289-44d628b208c6",
   "metadata": {},
   "outputs": [],
   "source": [
    "print(sum(factorial100))"
   ]
  }
 ],
 "metadata": {
  "kernelspec": {
   "display_name": "Python 3 (ipykernel)",
   "language": "python",
   "name": "python3"
  },
  "language_info": {
   "codemirror_mode": {
    "name": "ipython",
    "version": 3
   },
   "file_extension": ".py",
   "mimetype": "text/x-python",
   "name": "python",
   "nbconvert_exporter": "python",
   "pygments_lexer": "ipython3",
   "version": "3.11.7"
  }
 },
 "nbformat": 4,
 "nbformat_minor": 5
}
