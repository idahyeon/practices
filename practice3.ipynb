{
 "cells": [
  {
   "cell_type": "markdown",
   "id": "00b83c3c-8800-4ca7-b21f-51ab3a5864ae",
   "metadata": {},
   "source": [
    "# 나눗셈 계산기"
   ]
  },
  {
   "cell_type": "code",
   "execution_count": null,
   "id": "40bfcd4f-d11f-4955-af55-333a15a2d57d",
   "metadata": {},
   "outputs": [],
   "source": [
    "try:\n",
    "  a,b=map(int,input().split())\n",
    "  if a<1 or b<1:\n",
    "    print('입력한 값이 자연수가 아닙니다.')\n",
    "    quit()\n",
    "  c=a/b\n",
    "  print(f'{a} / {b} = {c}')\n",
    "except:\n",
    "  print('다시 입력해주세요')"
   ]
  },
  {
   "cell_type": "markdown",
   "id": "9f444dd1-4128-4b99-8b63-0ca86ea8ad1d",
   "metadata": {},
   "source": [
    "### try\n"
   ]
  },
  {
   "cell_type": "code",
   "execution_count": null,
   "id": "390a18ee-707d-4ad9-9ccd-6e5bd864e9d0",
   "metadata": {},
   "outputs": [],
   "source": [
    "try:\n",
    "  a,b=map(int,input().split())\n",
    "  if a<1 or b<1:\n",
    "    print('입력한 값이 자연수가 아닙니다.')\n",
    "    quit()\n",
    "  c=a/b\n",
    "  print(f'{a} / {b} = {c}')"
   ]
  },
  {
   "cell_type": "markdown",
   "id": "9eca3810-7a38-4c9c-987d-6d3477709d31",
   "metadata": {},
   "source": [
    "### except"
   ]
  },
  {
   "cell_type": "code",
   "execution_count": null,
   "id": "39346e6e-80af-4467-8ff8-e35958dcd085",
   "metadata": {},
   "outputs": [],
   "source": [
    "except:\n",
    "  print('다시 입력해주세요')"
   ]
  }
 ],
 "metadata": {
  "kernelspec": {
   "display_name": "Python 3 (ipykernel)",
   "language": "python",
   "name": "python3"
  },
  "language_info": {
   "codemirror_mode": {
    "name": "ipython",
    "version": 3
   },
   "file_extension": ".py",
   "mimetype": "text/x-python",
   "name": "python",
   "nbconvert_exporter": "python",
   "pygments_lexer": "ipython3",
   "version": "3.11.7"
  }
 },
 "nbformat": 4,
 "nbformat_minor": 5
}
