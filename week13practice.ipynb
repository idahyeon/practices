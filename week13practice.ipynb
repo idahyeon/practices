{
 "cells": [
  {
   "cell_type": "markdown",
   "id": "3992153f-693c-4016-a5f9-bfea8d70eb96",
   "metadata": {},
   "source": [
    "# python 내장함수 사용해보기"
   ]
  },
  {
   "cell_type": "markdown",
   "id": "dac190ed-68fe-44d2-9ee7-ceb668c5a7f2",
   "metadata": {},
   "source": [
    "## 1. all()\n",
    "* 모든 것이 참인지를 확인해준다.\n",
    "* 모두 true라면 true 반환\n",
    "* and 연산의 개념"
   ]
  },
  {
   "cell_type": "code",
   "execution_count": 1,
   "id": "9d12fbdc-9738-40de-bb52-942d5d3ceb2e",
   "metadata": {},
   "outputs": [
    {
     "data": {
      "text/plain": [
       "True"
      ]
     },
     "execution_count": 1,
     "metadata": {},
     "output_type": "execute_result"
    }
   ],
   "source": [
    "all([True,True,True,True])"
   ]
  },
  {
   "cell_type": "code",
   "execution_count": 2,
   "id": "7f0a2ff5-dbb4-4852-87d7-0b1085b6ad31",
   "metadata": {},
   "outputs": [
    {
     "data": {
      "text/plain": [
       "False"
      ]
     },
     "execution_count": 2,
     "metadata": {},
     "output_type": "execute_result"
    }
   ],
   "source": [
    "all([True,True,False,True])"
   ]
  },
  {
   "cell_type": "code",
   "execution_count": 3,
   "id": "00304795-2188-4397-9185-7fb9f5f12702",
   "metadata": {},
   "outputs": [
    {
     "data": {
      "text/plain": [
       "True"
      ]
     },
     "execution_count": 3,
     "metadata": {},
     "output_type": "execute_result"
    }
   ],
   "source": [
    "all(num>0 for num in [1,2,3,4])"
   ]
  },
  {
   "cell_type": "markdown",
   "id": "36c3d37e-c1e1-47af-8973-ffe54ac69e4f",
   "metadata": {},
   "source": [
    "## 2. any()\n",
    "* 참이 하나라도 있는지를 확인해준다.\n",
    "* 하나라도 true가 있다면 true 반환\n",
    "* or 연산의 개념"
   ]
  },
  {
   "cell_type": "code",
   "execution_count": 5,
   "id": "d79f7452-7729-479d-8787-c8b4589d3d1f",
   "metadata": {},
   "outputs": [
    {
     "data": {
      "text/plain": [
       "True"
      ]
     },
     "execution_count": 5,
     "metadata": {},
     "output_type": "execute_result"
    }
   ],
   "source": [
    "any([True,True,False,True])"
   ]
  },
  {
   "cell_type": "code",
   "execution_count": 6,
   "id": "560ea345-db82-4cd3-b340-68bca1a490b7",
   "metadata": {},
   "outputs": [
    {
     "data": {
      "text/plain": [
       "False"
      ]
     },
     "execution_count": 6,
     "metadata": {},
     "output_type": "execute_result"
    }
   ],
   "source": [
    "any([False,False,False,False])"
   ]
  },
  {
   "cell_type": "code",
   "execution_count": 9,
   "id": "b69f0f96-8199-4184-aaf1-0bb5a98bb048",
   "metadata": {},
   "outputs": [
    {
     "name": "stdout",
     "output_type": "stream",
     "text": [
      "There exist number that is larger than 2\n"
     ]
    }
   ],
   "source": [
    "number=2\n",
    "numbers=[0,1,2,4]\n",
    "if any(number<num for num in numbers):\n",
    "    print('There exist number that is larger than 2')"
   ]
  },
  {
   "cell_type": "markdown",
   "id": "b2ac372f-81d8-41f2-8b36-173da16545ad",
   "metadata": {},
   "source": [
    "## 3. enumerate()\n",
    "* 인덱스와 원소에 동시에 접근하며 루프를 돌림\n",
    "* 인덱스와 원소로 이루어진 튜플을 만들어준다."
   ]
  },
  {
   "cell_type": "code",
   "execution_count": 10,
   "id": "9bc06444-0d1f-481e-9216-bba20cfd99bf",
   "metadata": {},
   "outputs": [
    {
     "name": "stdout",
     "output_type": "stream",
     "text": [
      "(0, 'A')\n",
      "(1, 'B')\n",
      "(2, 'C')\n"
     ]
    }
   ],
   "source": [
    "for alphabet in enumerate(['A','B','C']):\n",
    "    print(alphabet)"
   ]
  },
  {
   "cell_type": "markdown",
   "id": "91aaf014-0f91-463a-9d1d-b0925c35a764",
   "metadata": {},
   "source": [
    "* 각각 다른 변수에 할당하고 싶다면 unpacking"
   ]
  },
  {
   "cell_type": "code",
   "execution_count": 11,
   "id": "66005ed1-021f-4c96-bfc7-cd87c02163b1",
   "metadata": {},
   "outputs": [
    {
     "name": "stdout",
     "output_type": "stream",
     "text": [
      "0 A\n",
      "1 B\n",
      "2 C\n"
     ]
    }
   ],
   "source": [
    "for number,alphabet in enumerate(['A','B','C']):\n",
    "    print(number,alphabet)"
   ]
  },
  {
   "cell_type": "markdown",
   "id": "17ba5914-629c-4708-9462-47c5f4cb903f",
   "metadata": {},
   "source": [
    "* 시작 인덱스를 변경할 수도 있다."
   ]
  },
  {
   "cell_type": "code",
   "execution_count": 13,
   "id": "af4611c6-d7b2-4458-aa2d-c2d5451b3051",
   "metadata": {},
   "outputs": [
    {
     "name": "stdout",
     "output_type": "stream",
     "text": [
      "101 A\n",
      "102 B\n",
      "103 C\n"
     ]
    }
   ],
   "source": [
    "for number,alphabet in enumerate(['A','B','C'],start=101):\n",
    "    print(number,alphabet)"
   ]
  },
  {
   "cell_type": "markdown",
   "id": "4f3e7dd8-5369-4fd6-833d-5b7d9649e97b",
   "metadata": {},
   "source": [
    "## 4. iter()\n",
    "* iterate를 받아 iterator로 바꿔줌\n",
    "* 한 번 출력하면 그 값이 사라진다."
   ]
  },
  {
   "cell_type": "markdown",
   "id": "b6de212d-0bfc-4b1f-a1ca-f47a250a30cc",
   "metadata": {},
   "source": [
    "* list로 감싸주어야 그 값을 볼 수 있다. "
   ]
  },
  {
   "cell_type": "code",
   "execution_count": 15,
   "id": "72c370aa-7303-490c-8014-409b37c9b900",
   "metadata": {},
   "outputs": [
    {
     "name": "stdout",
     "output_type": "stream",
     "text": [
      "[1, 2, 3, 4, 5]\n",
      "[]\n"
     ]
    }
   ],
   "source": [
    "iter_=iter([1,2,3,4,5])\n",
    "print(list(iter_))\n",
    "print(list(iter_))"
   ]
  },
  {
   "cell_type": "markdown",
   "id": "671f3c6b-4ae6-40a1-8294-1fdd713310ff",
   "metadata": {},
   "source": [
    "## 5. zip()\n",
    "* 두 개의 자료를 서로 묶어줌\n",
    "* 반환 타입은 튜플"
   ]
  },
  {
   "cell_type": "code",
   "execution_count": 16,
   "id": "01f83734-513d-49b7-a034-b91f58c47784",
   "metadata": {},
   "outputs": [
    {
     "name": "stdout",
     "output_type": "stream",
     "text": [
      "[('coffee', 2000), ('waffle', 4000)]\n"
     ]
    }
   ],
   "source": [
    "name=['coffee','waffle']\n",
    "price=[2000,4000]\n",
    "\n",
    "z=zip(name,price)\n",
    "print(list(z))"
   ]
  },
  {
   "cell_type": "markdown",
   "id": "df96b631-4bac-48fe-ad2c-01df35f2731e",
   "metadata": {},
   "source": [
    "* 길이가 다르다면 짧은 것을 기준으로 맞춰지고 나머지는 버려짐"
   ]
  },
  {
   "cell_type": "code",
   "execution_count": 17,
   "id": "4fbeedd1-b001-4e1a-a121-53c1da050ea2",
   "metadata": {},
   "outputs": [
    {
     "name": "stdout",
     "output_type": "stream",
     "text": [
      "1 one\n",
      "2 two\n",
      "3 three\n"
     ]
    }
   ],
   "source": [
    "list1=[1,2,3,4,5]\n",
    "list2=['one','two','three']\n",
    "\n",
    "for x,y in zip(list1,list2):\n",
    "    print(x,y)"
   ]
  }
 ],
 "metadata": {
  "kernelspec": {
   "display_name": "Python 3 (ipykernel)",
   "language": "python",
   "name": "python3"
  },
  "language_info": {
   "codemirror_mode": {
    "name": "ipython",
    "version": 3
   },
   "file_extension": ".py",
   "mimetype": "text/x-python",
   "name": "python",
   "nbconvert_exporter": "python",
   "pygments_lexer": "ipython3",
   "version": "3.11.7"
  }
 },
 "nbformat": 4,
 "nbformat_minor": 5
}
